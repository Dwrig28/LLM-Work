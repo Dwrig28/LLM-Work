{
 "cells": [
  {
   "cell_type": "code",
   "execution_count": 1,
   "id": "dfa7e5dd-5545-45cd-8a1e-0a5b98e2ca4c",
   "metadata": {},
   "outputs": [],
   "source": [
    "# imports\n",
    "\n",
    "import os\n",
    "import requests\n",
    "import json\n",
    "from typing import List\n",
    "from dotenv import load_dotenv\n",
    "from bs4 import BeautifulSoup\n",
    "from IPython.display import Markdown, display, update_display\n",
    "from openai import OpenAI\n",
    "from selenium import webdriver\n",
    "import time\n",
    "import requests"
   ]
  },
  {
   "cell_type": "code",
   "execution_count": 2,
   "id": "b431c63f-844a-4a9e-86ee-afa3a60f0d3d",
   "metadata": {},
   "outputs": [],
   "source": [
    "# Initialize and constants\n",
    "\n",
    "load_dotenv()\n",
    "os.environ['OPENAI_API_KEY'] = os.getenv('OPENAI_API_KEY')\n",
    "os.environ['FACEBOOK_ACCESS_TOKEN']=os.getenv('FACEBOOK_ACCESS_TOKEN')\n",
    "access_token = os.environ['FACEBOOK_ACCESS_TOKEN']\n",
    "MODEL = 'gpt-4o-mini'\n",
    "openai = OpenAI()"
   ]
  },
  {
   "cell_type": "code",
   "execution_count": 3,
   "id": "d3872fe3-8c17-483f-96ee-0efa9f6ee67e",
   "metadata": {},
   "outputs": [],
   "source": [
    "url = f\"https://graph.facebook.com/debug_token?input_token={access_token}&access_token={access_token}\"\n",
    "\n",
    "response = requests.get(url)\n",
    "data = response.json()\n",
    "\n",
    "for i in data['data']['granular_scopes']:\n",
    "    if i['scope']=='instagram_basic':\n",
    "        ig_user_id=i['target_ids'][0]"
   ]
  },
  {
   "cell_type": "code",
   "execution_count": 4,
   "id": "e65f57cf-4bad-44ed-88fa-b97f31bfa057",
   "metadata": {},
   "outputs": [],
   "source": [
    "def get_games(url):\n",
    "    driver = webdriver.Chrome()\n",
    "    driver.get(url)\n",
    "    time.sleep(5)  # Adjust sleep time as needed for content to load\n",
    "    \n",
    "    soup = BeautifulSoup(driver.page_source, 'html.parser')\n",
    "    main_div = soup.find('main', id='main')\n",
    "    links=[\"https://www.pff.com\"+link.get('href')+'#recap' for link in main_div.find_all('a')]\n",
    "    driver.quit()\n",
    "    return links\n",
    "    "
   ]
  },
  {
   "cell_type": "code",
   "execution_count": 5,
   "id": "13f4ea50-c9cd-47e5-acf1-52782e75cfd5",
   "metadata": {},
   "outputs": [],
   "source": [
    "def get_content(url):\n",
    "    driver = webdriver.Chrome()\n",
    "    driver.get(url)\n",
    "    time.sleep(5)  # Adjust sleep time as needed for content to load\n",
    "    \n",
    "    soup = BeautifulSoup(driver.page_source, 'html.parser')\n",
    "    main_div = soup.find('main', id='main')\n",
    "    if main_div:\n",
    "        content_div=main_div.find_all('div',class_='m-content')[0].find_all('div',class_='m-longform-copy')[0]\n",
    "        if content_div:\n",
    "            content=content_div.get_text(separator=\" \",strip=True)\n",
    "            print('Content Gathered Successfully')\n",
    "        else:\n",
    "            print(\"m-content div not found within main div\")\n",
    "    else:\n",
    "        print(\"Main div not found\")\n",
    "    \n",
    "    driver.quit()\n",
    "    return content"
   ]
  },
  {
   "cell_type": "code",
   "execution_count": 6,
   "id": "711efb62-3ed8-4b3a-8777-6a1f8e42d307",
   "metadata": {},
   "outputs": [],
   "source": [
    "def create_haiku(content):\n",
    "    system_prompt = (\n",
    "    \"You are an AI designed to craft haikus that capture the essence of NFL game recaps. \"\n",
    "    \"Focus on identifying the key elements that define each game, such as dramatic moments, game-changing plays, \"\n",
    "    \"and standout players. Use these highlights to create a 5-7-5 haiku format that is poetic and evocative, \"\n",
    "    \"bringing the story of the game to life in just three lines. Ensure each haiku reflects the spirit and emotion of the game, \"\n",
    "     \"while maintaining the syllable structure.\")\n",
    "    \n",
    "    user_prompt=(\n",
    "        \"Create a Haiku from NFL game recaps.\"\n",
    "        \"Here is the game recap:\"+content)\n",
    "    \n",
    "    user_prompt=user_prompt[0:20000]\n",
    "        \n",
    "    response = openai.chat.completions.create(\n",
    "        model=MODEL,\n",
    "        messages=[\n",
    "            {\"role\": \"system\", \"content\": system_prompt},\n",
    "            {\"role\": \"user\", \"content\":user_prompt}\n",
    "          ],\n",
    "    )\n",
    "    result = response.choices[0].message.content\n",
    "    return result"
   ]
  },
  {
   "cell_type": "code",
   "execution_count": 7,
   "id": "4a43547d-ca46-4e95-8f8a-d6e4c57391d4",
   "metadata": {},
   "outputs": [],
   "source": [
    "# def create_meme(content):\n",
    "#     system_prompt = (\n",
    "#         \"You are a clever and witty meme creator with an understanding of NFL terminology.\"\n",
    "#     )\n",
    "#     user_prompt=(    \n",
    "#     \"Generate a humorous, text-based sports recap in the style of a meme. \"\n",
    "#     \"Capture the key events of the game moment with clever phrasing, emphasizing any ironic or dramatic twists. \"\n",
    "#     \"Use witty dialogue or reactions that express celebration, frustration, or surprise, depending on the context of the event. \"\n",
    "#     \"Keep the text concise and engaging.\")\n",
    "    \n",
    "#     response = openai.chat.completions.create(\n",
    "#     model=MODEL,\n",
    "#     messages=[\n",
    "#         {\"role\": \"system\", \"content\": system_prompt},\n",
    "#         {\"role\": \"user\", \"content\":user_prompt}\n",
    "#       ],\n",
    "#     )\n",
    "#     result = response.choices[0].message.content\n",
    "#     return result"
   ]
  },
  {
   "cell_type": "code",
   "execution_count": 13,
   "id": "7b26a8c2-6d16-45e6-9d3d-16decbd4927a",
   "metadata": {},
   "outputs": [],
   "source": [
    "def generate_image(meme):\n",
    "    # Generate an image from a prompt\n",
    "    prompt = (\n",
    "        \"Create a meme image of a sports moment with NO TEXT, focusing on players' and fans' reactions to the moment. Make sure that the team colors make sense for the NFL team color scheme: \"\n",
    "        + meme + \n",
    "        \". Show emotions visually, such as excitement, frustration, or surprise, with exaggerated expressions and body language. Do not include any text in the image at all.\"\n",
    "    )\n",
    "\n",
    "    # Ensure the prompt doesn't exceed the character limit\n",
    "    prompt = prompt[0:1000]\n",
    "    \n",
    "    response = openai.images.generate(\n",
    "        prompt=prompt,\n",
    "        model=\"dall-e-3\",\n",
    "        n=1,  # number of images to generate\n",
    "        size=\"1024x1024\"  # specify image resolution (256x256, 512x512, or 1024x1024)\n",
    "    )\n",
    "\n",
    "    return response.data[0].url"
   ]
  },
  {
   "cell_type": "code",
   "execution_count": 14,
   "id": "9c7a802e-a1dd-44d7-a29d-7fa8b3d9c6bb",
   "metadata": {},
   "outputs": [],
   "source": [
    "def generate_creation_id(image_url,caption):\n",
    "    image_url=image_url\n",
    "    caption=caption\n",
    "    upload_url = f\"https://graph.facebook.com/v17.0/{ig_user_id}/media\"\n",
    "    upload_payload = {\n",
    "        \"image_url\": image_url,\n",
    "        \"caption\": caption,\n",
    "        \"access_token\": access_token\n",
    "    }\n",
    "    upload_response = requests.post(upload_url, data=upload_payload)\n",
    "    upload_data = upload_response.json()\n",
    "    return upload_data[\"id\"]\n",
    "    "
   ]
  },
  {
   "cell_type": "code",
   "execution_count": 15,
   "id": "f9e439eb-aa59-446c-ad85-141a2c3ec299",
   "metadata": {},
   "outputs": [],
   "source": [
    "def publish_media(creation_id):\n",
    "    # Publish media\n",
    "    publish_url = f\"https://graph.facebook.com/v17.0/{ig_user_id}/media_publish\"\n",
    "    publish_payload = {\n",
    "        \"creation_id\": creation_id,\n",
    "        \"access_token\": access_token\n",
    "    }\n",
    "    \n",
    "    publish_response = requests.post(publish_url, data=publish_payload)\n",
    "    publish_data = publish_response.json()\n",
    "    print(publish_data)\n",
    "    "
   ]
  },
  {
   "cell_type": "code",
   "execution_count": 16,
   "id": "77bfab03-d537-4b65-a384-d52ec12beb7e",
   "metadata": {},
   "outputs": [],
   "source": [
    "games=get_games('https://www.pff.com/nfl/scores?week=12')"
   ]
  },
  {
   "cell_type": "code",
   "execution_count": 22,
   "id": "3ffd452f-2bb5-4f63-a53a-18ffd8ce3aea",
   "metadata": {},
   "outputs": [
    {
     "name": "stdout",
     "output_type": "stream",
     "text": [
      "Content Gathered Successfully\n",
      "{'error': {'message': 'Application request limit reached', 'type': 'OAuthException', 'is_transient': False, 'code': 4, 'error_subcode': 2207051, 'error_user_title': 'action is blocked', 'error_user_msg': 'We restrict certain activity to protect our community. Tell us if you think we made a mistake.', 'fbtrace_id': 'AE9io1dIK_MaJjidmKyvHQr'}}\n",
      "https://www.pff.com/nfl/scores/2024/12/pittsburgh-steelers_at_cleveland-browns_26060#recap uploaded to ig\n",
      "Content Gathered Successfully\n",
      "{'error': {'message': 'Application request limit reached', 'type': 'OAuthException', 'is_transient': False, 'code': 4, 'error_subcode': 2207051, 'error_user_title': 'action is blocked', 'error_user_msg': 'We restrict certain activity to protect our community. Tell us if you think we made a mistake.', 'fbtrace_id': 'AhHwCrbWrusZXy8i5yXwmCp'}}\n",
      "https://www.pff.com/nfl/scores/2024/12/kansas-city-chiefs_at_carolina-panthers_26058#recap uploaded to ig\n",
      "Content Gathered Successfully\n",
      "{'error': {'message': 'Application request limit reached', 'type': 'OAuthException', 'is_transient': False, 'code': 4, 'error_subcode': 2207051, 'error_user_title': 'action is blocked', 'error_user_msg': 'We restrict certain activity to protect our community. Tell us if you think we made a mistake.', 'fbtrace_id': 'AQPFNyYYigQ3s4VjKPmlKIa'}}\n",
      "https://www.pff.com/nfl/scores/2024/12/minnesota-vikings_at_chicago-bears_26059#recap uploaded to ig\n",
      "Content Gathered Successfully\n",
      "{'error': {'message': 'Application request limit reached', 'type': 'OAuthException', 'is_transient': False, 'code': 4, 'error_subcode': 2207051, 'error_user_title': 'action is blocked', 'error_user_msg': 'We restrict certain activity to protect our community. Tell us if you think we made a mistake.', 'fbtrace_id': 'ALxDJtpY_r-VBb0cbH9VTUg'}}\n",
      "https://www.pff.com/nfl/scores/2024/12/tennessee-titans_at_houston-texans_26062#recap uploaded to ig\n",
      "Content Gathered Successfully\n",
      "Game recap does not exist for : https://www.pff.com/nfl/scores/2024/12/detroit-lions_at_indianapolis-colts_26063#recap\n",
      "Content Gathered Successfully\n",
      "Game recap does not exist for : https://www.pff.com/nfl/scores/2024/12/new-england-patriots_at_miami-dolphins_26065#recap\n",
      "Content Gathered Successfully\n",
      "Game recap does not exist for : https://www.pff.com/nfl/scores/2024/12/tampa-bay-buccaneers_at_new-york-giants_26066#recap\n",
      "Content Gathered Successfully\n",
      "Game recap does not exist for : https://www.pff.com/nfl/scores/2024/12/dallas-cowboys_at_washington-commanders_26068#recap\n",
      "Content Gathered Successfully\n",
      "Game recap does not exist for : https://www.pff.com/nfl/scores/2024/12/denver-broncos_at_las-vegas-raiders_26064#recap\n",
      "Content Gathered Successfully\n",
      "Game recap does not exist for : https://www.pff.com/nfl/scores/2024/12/san-francisco-49ers_at_green-bay-packers_26061#recap\n",
      "Content Gathered Successfully\n",
      "Game recap does not exist for : https://www.pff.com/nfl/scores/2024/12/arizona-cardinals_at_seattle-seahawks_26067#recap\n",
      "Content Gathered Successfully\n",
      "Game recap does not exist for : https://www.pff.com/nfl/scores/2024/12/philadelphia-eagles_at_los-angeles-rams_26069#recap\n",
      "Content Gathered Successfully\n",
      "Game recap does not exist for : https://www.pff.com/nfl/scores/2024/12/baltimore-ravens_at_los-angeles-chargers_26070#recap\n"
     ]
    }
   ],
   "source": [
    "for game in games:\n",
    "    try:\n",
    "        content=get_content(game)\n",
    "        haiku=create_haiku(content)\n",
    "        image=generate_image(content)\n",
    "        creation_id=generate_creation_id(image,haiku)\n",
    "        publish_media(creation_id)\n",
    "        print(game+' uploaded to ig')\n",
    "    except:\n",
    "        print('Game recap does not exist for : '+game)"
   ]
  },
  {
   "cell_type": "code",
   "execution_count": null,
   "id": "7119b24c-5390-4a40-bf6d-bea0e33701eb",
   "metadata": {},
   "outputs": [],
   "source": []
  }
 ],
 "metadata": {
  "kernelspec": {
   "display_name": "Python 3 (ipykernel)",
   "language": "python",
   "name": "python3"
  },
  "language_info": {
   "codemirror_mode": {
    "name": "ipython",
    "version": 3
   },
   "file_extension": ".py",
   "mimetype": "text/x-python",
   "name": "python",
   "nbconvert_exporter": "python",
   "pygments_lexer": "ipython3",
   "version": "3.11.7"
  }
 },
 "nbformat": 4,
 "nbformat_minor": 5
}
